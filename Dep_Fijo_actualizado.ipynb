{
 "cells": [
  {
   "cell_type": "markdown",
   "id": "d21ba939",
   "metadata": {},
   "source": [
    "### Depósitos a plazo fijo"
   ]
  },
  {
   "cell_type": "code",
   "execution_count": 5,
   "id": "55d63503",
   "metadata": {},
   "outputs": [],
   "source": [
    "import pandas as pd\n",
    "import numpy as np\n",
    "import matplotlib.pyplot as ptl\n",
    "import seaborn as sns\n",
    "from urllib.request import urlopen\n",
    "from bs4 import BeautifulSoup as soup\n",
    "import requests"
   ]
  },
  {
   "cell_type": "markdown",
   "id": "cb697e16",
   "metadata": {},
   "source": [
    "## Prueba usuario"
   ]
  },
  {
   "cell_type": "code",
   "execution_count": 102,
   "id": "f4ab32ee",
   "metadata": {},
   "outputs": [
    {
     "name": "stdout",
     "output_type": "stream",
     "text": [
      "Hola, ¿Cuál es tu nombre?: Juli\n",
      "Mucho gusto Juli\n",
      "*--------BankMoney te da la bienvenida----------*\n",
      "Tenemos las siguientes operaciones:\n",
      "1. Cambio de divisas\n",
      "2. Préstamo personal\n",
      "3. Depósito a plazo fijo\n",
      "Selecciona una ingresando el número correspondiente: 3\n",
      "¿Con qué monto dispone para la operación?: 1000\n"
     ]
    }
   ],
   "source": [
    "nm = input(str(\"Hola, ¿Cuál es tu nombre?: \"))\n",
    "print(\"Mucho gusto\", nm)\n",
    "print(\"*--------BankMoney te da la bienvenida----------*\")\n",
    "print(\"Tenemos las siguientes operaciones:\")\n",
    "print(\"1. Cambio de divisas\")\n",
    "print(\"2. Préstamo personal\")\n",
    "print(\"3. Depósito a plazo fijo\")\n",
    "op = input(str(\"Selecciona una ingresando el número correspondiente: \"))\n",
    "mo = input(str(\"¿Con qué monto dispone para la operación?: \"))"
   ]
  },
  {
   "cell_type": "code",
   "execution_count": 112,
   "id": "5e83b249",
   "metadata": {},
   "outputs": [
    {
     "name": "stdout",
     "output_type": "stream",
     "text": [
      "Hola  Juli , gracias por confiar en BankMoney para aconsejarte en tu aventura financiera.\n",
      "Para el depósito a plazo fijo que deseas hacer te recomendamos  Caja Huancayo\n",
      "que te ofrece  8.75 % de TREA anual\n",
      "por lo cual de invertir s/ 1000 estarías recibiendo s/ 1087.5\n"
     ]
    }
   ],
   "source": [
    "#if op == 1:\n",
    "    \n",
    "#if op == 2:\n",
    "\n",
    "if float(op) == 3:\n",
    "    # Scotiabank\n",
    "    url=\"https://www.scotiabank.com.pe/Personas/Ahorros/otros/gratificacion\"\n",
    "    uclient=urlopen(url)\n",
    "    pagehtml=uclient.read()\n",
    "    uclient.close()\n",
    "    dt_sc = pagehtml.decode()\n",
    "    result_sc = re.findall('Plazo de hasta (\\d\\.\\d)%<', dt_sc)\n",
    "    # Caja Huancayo\n",
    "    url=\"https://www.cajahuancayo.com.pe/PCM_Noticias/PCM_frmDetCampanias.aspx?cCodCamPub=C0088&cCodigo=84\"\n",
    "    uclient=urlopen(url)\n",
    "    pagehtml=uclient.read()\n",
    "    uclient.close()\n",
    "    dt_ch = pagehtml.decode()\n",
    "    result_ch = re.findall('PLAZO FIJO HASTA (\\d\\.\\d\\d)%', dt_ch)\n",
    "    # BBVA\n",
    "    url=\"https://www.bbva.pe/personas/productos/inversiones/depositos/deposito-plazo.html#tasas-e-intereses\"\n",
    "    uclient=urlopen(url)\n",
    "    pagehtml=uclient.read()\n",
    "    uclient.close()\n",
    "    dt_ba = pagehtml.decode()\n",
    "    result_ba = re.findall('Hasta (\\d)%', dt_ba)\n",
    "    trea=[float(result_sc[0]),float(result_ch[0]),float(result_ba[0])]\n",
    "    Dep_Fijo={\"Entidad\":[\"Scotiabank\", \"Caja Huancayo\", \"BBVA\"], \"TREA %\" :trea }\n",
    "    DFF=pd.DataFrame(Dep_Fijo)\n",
    "    DFF_ord=DFF.sort_values(by=['TREA %'])\n",
    "    #print(DFF_ord.iloc[-1]) #Recomendación\n",
    "    #type(float(DFF_ord.iloc[0].iloc[1])) #Para la operación\n",
    "    print(\"Hola \",nm, \", gracias por confiar en BankMoney para aconsejarte en tu aventura financiera.\")\n",
    "print(\"Para el depósito a plazo fijo que deseas hacer te recomendamos \", DFF_ord.iloc[-1].iloc[0])\n",
    "print(\"que te ofrece \", float(DFF_ord.iloc[-1].iloc[1]),\"% de TREA anual\")\n",
    "print(\"por lo cual de invertir s/\", mo,\"estarías recibiendo s/\", (float(mo)+0.01*float(mo)*(float(DFF_ord.iloc[-1].iloc[1]))))\n",
    "    "
   ]
  },
  {
   "cell_type": "markdown",
   "id": "02d7ccdb",
   "metadata": {},
   "source": [
    "## Guardando información en csv."
   ]
  },
  {
   "cell_type": "code",
   "execution_count": null,
   "id": "4ba5c806",
   "metadata": {},
   "outputs": [],
   "source": [
    "# [1] Información webscrapeada sobre cambio de divisas\n",
    "\n",
    "# [2] Información webscrapeada sobre préstamo personal\n",
    "\n",
    "# [3] Información webscrapeada sobre depósito a plazo fijo\n",
    "DFF_ord.to_csv('Dep_f.csv', sep = \";\" , encoding = \"utf-8\", index=False)"
   ]
  },
  {
   "cell_type": "markdown",
   "id": "f96789c5",
   "metadata": {},
   "source": [
    "# Códigos de prueba >>>>>>"
   ]
  },
  {
   "cell_type": "code",
   "execution_count": 70,
   "id": "fefca63d",
   "metadata": {},
   "outputs": [
    {
     "name": "stdout",
     "output_type": "stream",
     "text": [
      "Hola  Juliana , gracias por confiar en BankMoney para aconsejarte en tu aventura financiera.\n"
     ]
    }
   ],
   "source": [
    "print(\"Hola \",nm, \", gracias por confiar en BankMoney para aconsejarte en tu aventura financiera.\")\n",
    "print(\"Para [Operación] que deseas hacer te recomendamos [Nombre de entidad banco/caja/etc]\")\n",
    "print(\"que te ofrece [Tipo de cambio/Interés/etc] \")\n",
    "print(\"por lo cual de invertir [Monto] estarías recibiendo [Operación según corresponda el tipo de operación].\")"
   ]
  },
  {
   "cell_type": "code",
   "execution_count": 44,
   "id": "45873ad0",
   "metadata": {},
   "outputs": [
    {
     "name": "stdout",
     "output_type": "stream",
     "text": [
      "<class 'str'>\n",
      "8.1\n"
     ]
    }
   ],
   "source": [
    "# Scotiabank\n",
    "url=\"https://www.scotiabank.com.pe/Personas/Ahorros/otros/gratificacion\"\n",
    "uclient=urlopen(url)\n",
    "pagehtml=uclient.read()\n",
    "uclient.close()\n",
    "\n",
    "dt_sc = pagehtml.decode()\n",
    "print(type(dt_sc))\n",
    "result_sc = re.findall('Plazo de hasta (\\d\\.\\d)%<', dt_sc)\n",
    "print (float (result_sc[0]))"
   ]
  },
  {
   "cell_type": "code",
   "execution_count": 45,
   "id": "1bedf3d0",
   "metadata": {},
   "outputs": [
    {
     "name": "stdout",
     "output_type": "stream",
     "text": [
      "<class 'str'>\n",
      "8.75\n"
     ]
    }
   ],
   "source": [
    "# Caja Huancayo\n",
    "url=\"https://www.cajahuancayo.com.pe/PCM_Noticias/PCM_frmDetCampanias.aspx?cCodCamPub=C0088&cCodigo=84\"\n",
    "uclient=urlopen(url)\n",
    "pagehtml=uclient.read()\n",
    "uclient.close()\n",
    "\n",
    "dt_ch = pagehtml.decode()\n",
    "#print(dt_ch)\n",
    "print(type(dt_ch))\n",
    "result_ch = re.findall('PLAZO FIJO HASTA (\\d\\.\\d\\d)%', dt_ch)\n",
    "print (float (result_ch[0]))"
   ]
  },
  {
   "cell_type": "code",
   "execution_count": 46,
   "id": "a814e99c",
   "metadata": {},
   "outputs": [
    {
     "name": "stdout",
     "output_type": "stream",
     "text": [
      "8.0\n"
     ]
    }
   ],
   "source": [
    "# BBVA\n",
    "url=\"https://www.bbva.pe/personas/productos/inversiones/depositos/deposito-plazo.html#tasas-e-intereses\"\n",
    "uclient=urlopen(url)\n",
    "pagehtml=uclient.read()\n",
    "uclient.close()\n",
    "\n",
    "dt_ba = pagehtml.decode()\n",
    "#print(dt_ba)\n",
    "#print(type(dt_ba))\n",
    "result_ba = re.findall('Hasta (\\d)%', dt_ba)\n",
    "print (float (result_ba[0]))"
   ]
  },
  {
   "cell_type": "code",
   "execution_count": 78,
   "id": "40ec32eb",
   "metadata": {},
   "outputs": [],
   "source": [
    "trea=[float(result_sc[0]),float(result_ch[0]),float(result_ba[0])]\n",
    "Dep_Fijo={\"Entidad\":[\"Scotiabank\", \"Caja Huancayo\", \"BBVA\"], \"TREA %\" :trea }\n",
    "DFF=pd.DataFrame(Dep_Fijo)"
   ]
  },
  {
   "cell_type": "code",
   "execution_count": 87,
   "id": "ec46e218",
   "metadata": {},
   "outputs": [],
   "source": [
    "DFF_ord=DFF.sort_values(by=['TREA %'])"
   ]
  },
  {
   "cell_type": "code",
   "execution_count": 89,
   "id": "1469ce25",
   "metadata": {},
   "outputs": [
    {
     "data": {
      "text/html": [
       "<div>\n",
       "<style scoped>\n",
       "    .dataframe tbody tr th:only-of-type {\n",
       "        vertical-align: middle;\n",
       "    }\n",
       "\n",
       "    .dataframe tbody tr th {\n",
       "        vertical-align: top;\n",
       "    }\n",
       "\n",
       "    .dataframe thead th {\n",
       "        text-align: right;\n",
       "    }\n",
       "</style>\n",
       "<table border=\"1\" class=\"dataframe\">\n",
       "  <thead>\n",
       "    <tr style=\"text-align: right;\">\n",
       "      <th></th>\n",
       "      <th>Entidad</th>\n",
       "      <th>TREA %</th>\n",
       "    </tr>\n",
       "  </thead>\n",
       "  <tbody>\n",
       "    <tr>\n",
       "      <th>0</th>\n",
       "      <td>Scotiabank</td>\n",
       "      <td>8.10</td>\n",
       "    </tr>\n",
       "    <tr>\n",
       "      <th>1</th>\n",
       "      <td>Caja Huancayo</td>\n",
       "      <td>8.75</td>\n",
       "    </tr>\n",
       "    <tr>\n",
       "      <th>2</th>\n",
       "      <td>BBVA</td>\n",
       "      <td>8.00</td>\n",
       "    </tr>\n",
       "  </tbody>\n",
       "</table>\n",
       "</div>"
      ],
      "text/plain": [
       "         Entidad  TREA %\n",
       "0     Scotiabank    8.10\n",
       "1  Caja Huancayo    8.75\n",
       "2           BBVA    8.00"
      ]
     },
     "execution_count": 89,
     "metadata": {},
     "output_type": "execute_result"
    }
   ],
   "source": [
    "DFF"
   ]
  },
  {
   "cell_type": "code",
   "execution_count": 88,
   "id": "89252dca",
   "metadata": {},
   "outputs": [
    {
     "data": {
      "text/html": [
       "<div>\n",
       "<style scoped>\n",
       "    .dataframe tbody tr th:only-of-type {\n",
       "        vertical-align: middle;\n",
       "    }\n",
       "\n",
       "    .dataframe tbody tr th {\n",
       "        vertical-align: top;\n",
       "    }\n",
       "\n",
       "    .dataframe thead th {\n",
       "        text-align: right;\n",
       "    }\n",
       "</style>\n",
       "<table border=\"1\" class=\"dataframe\">\n",
       "  <thead>\n",
       "    <tr style=\"text-align: right;\">\n",
       "      <th></th>\n",
       "      <th>Entidad</th>\n",
       "      <th>TREA %</th>\n",
       "    </tr>\n",
       "  </thead>\n",
       "  <tbody>\n",
       "    <tr>\n",
       "      <th>2</th>\n",
       "      <td>BBVA</td>\n",
       "      <td>8.00</td>\n",
       "    </tr>\n",
       "    <tr>\n",
       "      <th>0</th>\n",
       "      <td>Scotiabank</td>\n",
       "      <td>8.10</td>\n",
       "    </tr>\n",
       "    <tr>\n",
       "      <th>1</th>\n",
       "      <td>Caja Huancayo</td>\n",
       "      <td>8.75</td>\n",
       "    </tr>\n",
       "  </tbody>\n",
       "</table>\n",
       "</div>"
      ],
      "text/plain": [
       "         Entidad  TREA %\n",
       "2           BBVA    8.00\n",
       "0     Scotiabank    8.10\n",
       "1  Caja Huancayo    8.75"
      ]
     },
     "execution_count": 88,
     "metadata": {},
     "output_type": "execute_result"
    }
   ],
   "source": [
    "DFF_ord"
   ]
  },
  {
   "cell_type": "code",
   "execution_count": 95,
   "id": "234c3c92",
   "metadata": {},
   "outputs": [
    {
     "name": "stdout",
     "output_type": "stream",
     "text": [
      "Entidad    Caja Huancayo\n",
      "TREA %              8.75\n",
      "Name: 1, dtype: object\n"
     ]
    }
   ],
   "source": [
    "print(DFF_ord.iloc[-1])"
   ]
  },
  {
   "cell_type": "code",
   "execution_count": 101,
   "id": "be8d7136",
   "metadata": {},
   "outputs": [
    {
     "data": {
      "text/plain": [
       "float"
      ]
     },
     "execution_count": 101,
     "metadata": {},
     "output_type": "execute_result"
    }
   ],
   "source": [
    "type(float(DFF_ord.iloc[0].iloc[1]))"
   ]
  },
  {
   "cell_type": "code",
   "execution_count": 71,
   "id": "f042037a",
   "metadata": {},
   "outputs": [],
   "source": [
    "DFF\n",
    "DFF.to_csv('Dep_f.csv', sep = \";\" , encoding = \"utf-8\", index=False)"
   ]
  },
  {
   "cell_type": "code",
   "execution_count": null,
   "id": "6fcfde48",
   "metadata": {},
   "outputs": [],
   "source": []
  }
 ],
 "metadata": {
  "kernelspec": {
   "display_name": "Python 3 (ipykernel)",
   "language": "python",
   "name": "python3"
  },
  "language_info": {
   "codemirror_mode": {
    "name": "ipython",
    "version": 3
   },
   "file_extension": ".py",
   "mimetype": "text/x-python",
   "name": "python",
   "nbconvert_exporter": "python",
   "pygments_lexer": "ipython3",
   "version": "3.9.13"
  }
 },
 "nbformat": 4,
 "nbformat_minor": 5
}
