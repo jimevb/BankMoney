{
 "cells": [
  {
   "cell_type": "markdown",
   "id": "d21ba939",
   "metadata": {},
   "source": [
    "<div align=\"center\">\n",
    "\n",
    "## <span style=\"color: #7711C7; font-family: 'Segoe UI'; font-size: 36px;\">BankMoney:</span> <span style=\"color: #FCE900; font-family: 'Segoe UI'; font-size: 30px;\">Potenciando tus opciones financieras</span>\n",
    "\n",
    "</div>\n",
    "\n",
    "<br>\n",
    "\n",
    "<div align=\"justify\">\n",
    "\n",
    "<span style=\"font-size: 17px; font-weight: normal;\"> <span style=\"font-size: 18px; font-weight:bold;\">¡Bienvenido!</span> Si buscas optimizar tus decisiones económicas, ¡has llegado al lugar indicado!</span>\n",
    "\n",
    "<span style=\"font-size: 17px; font-weight: normal;\">En este proyecto utilizamos técnicas de web scraping para recolectar datos financieros de manera eficiente y precisa. Analizamos satisfactoriamente la información para ofrecerte recomendaciones que se ajusten a tus necesidades en tiempo real.</span>\n",
    "\n",
    "<span style=\"font-size: 17px; font-weight: normal;\">¿Estás listo? ¡Vamos a conquistar nuevas oportunidades financieras con BankMoney!</span>\n",
    "\n",
    "</div>\n",
    "\n"
   ]
  },
  {
   "cell_type": "markdown",
   "id": "a182e74b",
   "metadata": {},
   "source": [
    "### <span style=\"color: #FF0000;\"> Librería utilizadas </span>"
   ]
  },
  {
   "cell_type": "code",
   "execution_count": 3,
   "id": "55d63503",
   "metadata": {},
   "outputs": [],
   "source": [
    "import pandas as pd\n",
    "import numpy as np\n",
    "from urllib.request import urlopen\n",
    "from bs4 import BeautifulSoup\n",
    "import requests\n",
    "from selenium import webdriver\n",
    "from selenium.webdriver.support.ui import WebDriverWait\n",
    "from selenium.webdriver.support import expected_conditions as EC\n",
    "from selenium.webdriver.common.by import By\n",
    "import time \n",
    "import pandas as pd\n",
    "import re"
   ]
  },
  {
   "cell_type": "markdown",
   "id": "cb697e16",
   "metadata": {},
   "source": [
    "## <span style=\"color: #16990E;\"> Prueba de usuario </span>"
   ]
  },
  {
   "cell_type": "code",
   "execution_count": 1,
   "id": "f4ab32ee",
   "metadata": {
    "scrolled": true
   },
   "outputs": [
    {
     "name": "stdout",
     "output_type": "stream",
     "text": [
      "Hola, ¿Cuál es tu nombre?: Juli\n",
      "Mucho gusto Juli\n",
      "*--------BankMoney te da la bienvenida----------*\n",
      "Tenemos las siguientes operaciones:\n",
      "1. Cambio de divisas\n",
      "2. Préstamo personal\n",
      "3. Depósito a plazo fijo\n",
      "Selecciona una ingresando el número correspondiente: 3\n",
      "¿Con qué monto dispone para la operación?: 6000\n"
     ]
    }
   ],
   "source": [
    "nm = input(str(\"Hola, ¿Cuál es tu nombre?: \")) #Nombre de usuario\n",
    "print(\"Mucho gusto\", nm)\n",
    "print(\"*--------BankMoney te da la bienvenida----------*\")\n",
    "print(\"Tenemos las siguientes operaciones:\") #Imprimir opciones\n",
    "print(\"1. Cambio de divisas\")\n",
    "print(\"2. Préstamo personal\")\n",
    "print(\"3. Depósito a plazo fijo\")\n",
    "op = input(str(\"Selecciona una ingresando el número correspondiente: \"))\n",
    "if float(op) == 1:\n",
    "    print(\"Entendido, lo ayudaremos en su proceso\")\n",
    "else:\n",
    "    mo = input(str(\"¿Con qué monto dispone para la operación?: \"))"
   ]
  },
  {
   "cell_type": "markdown",
   "id": "5d1d415a",
   "metadata": {},
   "source": [
    "## <span style=\"color: #691FB4;\"> Webscraping de las operaciones </span>"
   ]
  },
  {
   "cell_type": "code",
   "execution_count": 4,
   "id": "5e83b249",
   "metadata": {},
   "outputs": [
    {
     "name": "stdout",
     "output_type": "stream",
     "text": [
      "Hola  Juli , gracias por confiar en BankMoney para aconsejarte en tu aventura financiera.\n",
      "Para el depósito a plazo fijo que deseas hacer te recomendamos  Caja Huancayo\n",
      "que te ofrece  8.75 % de TREA anual\n",
      "por lo cual de invertir s/ 6000 estarías recibiendo s/ 6525.0\n"
     ]
    }
   ],
   "source": [
    "if float(op) == 1:\n",
    "    #BANCO CENTRAL DE RESERVA DEL PERU\n",
    "    options = webdriver.ChromeOptions()           #Realizamos un webscrapeo con el paquete selenium\n",
    "    options.add_argument('--start-maximized')\n",
    "    options.add_argument('--disable-extensions')\n",
    "\n",
    "    driver_path = 'C:\\Program Files (x86)\\chromedriver.exe'#Asignamos la direccion donde se encuentra nuestro driver(Google) \n",
    "\n",
    "    driver = webdriver.Chrome(options=options)\n",
    "\n",
    "    driver.get('https://www.bcrp.gob.pe/')\n",
    "\n",
    "    #WebDriverWait(driver,5)\\\n",
    "    #    .until(EC.element_to_be_clickable((By.XPATH,\n",
    "    #                                       '//*[@id=\"caja_tipo_cambio\"]/div/div/div[2]/table/tbody/tr[4]/td[2]')))\\\n",
    "    #        .send_keys(100)\n",
    "\n",
    "    WebDriverWait(driver, 20).until(EC.element_to_be_clickable((By.XPATH, '//*[@id=\"caja_tipo_cambio\"]/div/div/div[2]/table/tbody/tr[4]/td[2]')))\n",
    "\n",
    "    texto_element = driver.find_element(By.XPATH, '//*[@id=\"caja_tipo_cambio\"]/div/div/div[2]/table/tbody/tr[4]/td[2]')\n",
    "\n",
    "    texto1 = texto_element.text\n",
    "\n",
    "    driver.quit()  #asignamos el tipo de cambio a texto1\n",
    "\n",
    "    #print(texto1)\n",
    "    \n",
    "    # BANCO FALABELLA\n",
    "    options = webdriver.ChromeOptions()\n",
    "    options.add_argument('--start-maximized')\n",
    "    options.add_argument('--disable-extensions')\n",
    "\n",
    "    driver_path = 'C:\\Program Files (x86)\\chromedriver.exe'#Asignamos la direccion donde se encuentra nuestro driver(Google) \n",
    "                                                            \n",
    "    driver = webdriver.Chrome(options=options)\n",
    "\n",
    "    driver.get('https://www.preciodolar.com/precio-del-dolar-en-banco-falabella')\n",
    "\n",
    "    #WebDriverWait(driver,5)\\\n",
    "    #    .until(EC.element_to_be_clickable((By.XPATH,\n",
    "    #                                       '//*[@id=\"caja_tipo_cambio\"]/div/div/div[2]/table/tbody/tr[4]/td[2]')))\\\n",
    "    #        .send_keys(100)\n",
    "\n",
    "    WebDriverWait(driver, 20).until(EC.element_to_be_clickable((By.XPATH, '//*[@id=\"content-wrapper-main\"]/div[1]/article/section/div[1]/div[2]/div[1]/span[3]')))\n",
    "\n",
    "    texto_element = driver.find_element(By.XPATH, '//*[@id=\"content-wrapper-main\"]/div[1]/article/section/div[1]/div[2]/div[1]/span[3]')\n",
    "\n",
    "\n",
    "\n",
    "\n",
    "\n",
    "    texto2= texto_element.text  #asignamos el tipo de cambio a texto2\n",
    "\n",
    "    driver.quit() \n",
    "\n",
    "    #print(texto2)\n",
    "    \n",
    "    # SUPERINTENDENCIA DE BANCA Y SEGUROS\n",
    "    options = webdriver.ChromeOptions()\n",
    "    options.add_argument('--start-maximized')\n",
    "    options.add_argument('--disable-extensions')\n",
    "\n",
    "    driver_path = 'C:\\Program Files (x86)\\chromedriver.exe'#Asignamos la direccion donde se encuentra nuestro driver(Google) \n",
    "\n",
    "    driver = webdriver.Chrome(options=options)\n",
    "\n",
    "    driver.get('https://www.sbs.gob.pe/app/pp/sistip_portal/paginas/publicacion/tipocambiopromedio.aspx')\n",
    "\n",
    "    #WebDriverWait(driver,5)\\\n",
    "    #    .until(EC.element_to_be_clickable((By.XPATH,\n",
    "    #                                       '//*[@id=\"caja_tipo_cambio\"]/div/div/div[2]/table/tbody/tr[4]/td[2]')))\\\n",
    "    #        .send_keys(100)\n",
    "\n",
    "    WebDriverWait(driver, 20).until(EC.element_to_be_clickable((By.XPATH, '//*[@id=\"ctl00_cphContent_rgTipoCambio_ctl00__0\"]/td[2]')))\n",
    "\n",
    "    texto_element = driver.find_element(By.XPATH, '//*[@id=\"ctl00_cphContent_rgTipoCambio_ctl00__0\"]/td[2]')\n",
    "\n",
    "    texto3 = texto_element.text  #asignamos el tipo de cambio a texto3\n",
    "\n",
    "    driver.quit()\n",
    "\n",
    "    #print(texto3)\n",
    "  \n",
    "    mo = input(str(\"¿Qué tipo de moneda dispone para la operación? Escriba: DOLARES/SOLES\"))\n",
    "    if mo==\"DOLARES\":\n",
    "        mo = input(str(\"¿Con qué monto dispone para la operación (S/.)?:  \"))\n",
    "\n",
    "\n",
    "        diccionario = {\"BANCO\":[\"Banco Central de Reserva\",\"Banco Falabella\",\"Super Intendencia de Banca y Seguros\"],\n",
    "                       \"COSTO DEL DOLAR\":[texto1,texto2,texto3]\n",
    "                      }\n",
    "        # Crear un DataFrame a partir del diccionario\n",
    "        df = pd.DataFrame(diccionario)\n",
    "\n",
    "        # Convertir la columna \"COSTO DEL DOLAR\" a tipo float\n",
    "        df['COSTO DEL DOLAR'] = df['COSTO DEL DOLAR'].str.replace(',', '.').astype(float)\n",
    "        # Multiplicar la columna \"numero\" por 100\n",
    "        df['DINERO A RECIBIR(S/.)'] = float(mo) * df['COSTO DEL DOLAR']\n",
    "        df_sorted = df.sort_values(by='COSTO DEL DOLAR', ascending=False)\n",
    "        #print(df_sorted)\n",
    "\n",
    "        print(\"Hola, gracias por confiar en BankMoney para aconsejarte en tu aventura financiera.\")\n",
    "        print(\"Para el cambio de moneda te recomendamos\",df_sorted.iloc[0][0])\n",
    "        print(\"ya que el valor del dólar es\", df_sorted.iloc[0][1])\n",
    "        print(\"por lo tanto, al cambiar $\",mo, \"estarías recibiendo s/\",df_sorted.iloc[0][2])\n",
    "\n",
    "    if mo==\"SOLES\":\n",
    "        mo = input(str(\"¿Con qué monto dispone para la operación (S/.)?:  \"))\n",
    "\n",
    "\n",
    "        diccionario = {\"BANCO\":[\"Banco Central de Reserva\",\"Banco Falabella\",\"Super Intendencia de Banca y Seguros\"],\n",
    "                       \"COSTO DEL DOLAR\":[texto1,texto2,texto3]}\n",
    "\n",
    "        # Crear un DataFrame a partir del diccionario\n",
    "        df = pd.DataFrame(diccionario)\n",
    "        # Mostrar el DataFrame\n",
    "\n",
    "\n",
    "        # Convertir la columna \"numero\" a tipo float\n",
    "        df['COSTO DEL DOLAR'] = df['COSTO DEL DOLAR'].str.replace(',', '.').astype(float)\n",
    "        # Multiplicar la columna \"numero\" por 100\n",
    "        df['DINERO A RECIBIR($)'] = float(mo) / df['COSTO DEL DOLAR']\n",
    "        df_sorted = df.sort_values(by='COSTO DEL DOLAR')\n",
    "        #print(df_sorted)\n",
    "        #print(df_sorted.iloc[0][0])\n",
    "        print(\"Hola \",nm, \", gracias por confiar en BankMoney para aconsejarte en tu aventura financiera.\")\n",
    "        print(\"Para el cambio de moneda que deseas realizar te recomendamos\",df_sorted.iloc[0][0] )\n",
    "        print(\"que te ofrece un costo de dolar de\",df_sorted.iloc[0][1])\n",
    "        print(\"por lo cual de invertir s/\", mo,\"estarías recibiendo s/\",df_sorted.iloc[0][2])\n",
    "\n",
    "    \n",
    "if float(op) == 2:\n",
    "    #Hacemos una función para calcular la cuota mensual\n",
    "    def calcular_cuota_mensual(monto_inicial, tasa, plazo):\n",
    "        i = float(mo) * (tasa / 100)\n",
    "        monto_final = float(mo) + i\n",
    "        cuota = monto_final / plazo\n",
    "        return cuota\n",
    "    \n",
    "    def obtener_tasa_interes(data, regex):\n",
    "        if data.startswith(\"http\"):\n",
    "            # Si data es una URL, obtenemos el contenido de la página web\n",
    "            try:\n",
    "                response = requests.get(data)\n",
    "                response.raise_for_status()\n",
    "                data = response.text\n",
    "            except requests.exceptions.RequestException as e:\n",
    "                print(f\"No se pudo acceder a la página web: {e}\")\n",
    "                return None\n",
    "        # Busca la tasa de interés usando la expresión regular\n",
    "        tasa = re.findall(regex, data)\n",
    "        if tasa:\n",
    "            return float(tasa[0])\n",
    "        else:\n",
    "            return None\n",
    "\n",
    "    # URL de los bancos, BCP será con Selenium por eso colocamos la data en blanco\n",
    "    bancos = {\n",
    "        \"Interbank\": {\n",
    "            \"url\": \"https://interbank.pe/solicitar/prestamo/efectivo/inicio?pcid=home:productos-para-ti:producto-2:prestamo\",\n",
    "            \"regex\": r\"TCEA\\sMáxima:\\s([\\d.]+)%\"\n",
    "        },\n",
    "        \"BCP\": {},\n",
    "        \"BanBif\": {\n",
    "            \"url\": \"https://www.banbif.com.pe/PrestamosClick\",\n",
    "            \"regex\": r\"TEA de (\\d+\\.\\d+)%\"\n",
    "        }\n",
    "    }\n",
    "\n",
    "    # Obtener las tasas de interés de cada banco y almacenarlas en una lista\n",
    "    tasas = []\n",
    "    for banco, info in bancos.items():\n",
    "        if banco == \"BCP\":\n",
    "            # Usar Selenium para obtener el valor desde el sitio web del BCP\n",
    "            options = webdriver.ChromeOptions()\n",
    "            options.add_argument('--start-maximized')\n",
    "            options.add_argument('--disable-extensions')\n",
    "            \n",
    "            # Ruta del driver de Chrome (asegúrate de cambiarla a la ubicación correcta en tu PC).\n",
    "            driver_path = 'C:/Users/jimen/Downloads/chromedriver.exe'\n",
    "             \n",
    "            # Inicializamos el navegador Chrome\n",
    "            driver = webdriver.Chrome(options=options)\n",
    "            # Abrimos la página web del BCP\n",
    "            driver.get('https://www.viabcp.com/creditos/credito-efectivo/prestamo-personal-bcp?rfid=header:productos:prestamo-personal:prestamos')\n",
    "            \n",
    "            # Esperamos a que aparezca el botón de aceptar cookies y luego hacemos clic\n",
    "            WebDriverWait(driver, 15).until(EC.element_to_be_clickable((By.CSS_SELECTOR, 'button.bcp_btn_aceptar.bcp_boton_naranja'))).click()\n",
    "\n",
    "            # Esperamos a que aparezca el elemento que contiene la tasa de interés y luego obtenemos su texto.\n",
    "            WebDriverWait(driver, 20).until(EC.element_to_be_clickable((By.XPATH, '/html/body/div[1]/div/div[3]/div/div[2]/div/div[4]/section/div[2]/main/div/div/div[2]/div[2]/div[1]/div[1]/ul[6]/li[1]/span[2]/span')))\n",
    "            texto_element = driver.find_element(By.XPATH, '/html/body/div[1]/div/div[3]/div/div[2]/div/div[4]/section/div[2]/main/div/div/div[2]/div[2]/div[1]/div[1]/ul[6]/li[1]/span[2]/span')\n",
    "            texto = texto_element.text\n",
    "\n",
    "            driver.quit()\n",
    "\n",
    "            #print(texto)\n",
    "\n",
    "            tasa_bcp = float(re.findall(r\"\\b\\d{1,2}\\.\\d+\\b\", texto)[1])\n",
    "            tasas.append(tasa_bcp)\n",
    "        else:\n",
    "            tasa = obtener_tasa_interes(info.get(\"url\"), info[\"regex\"])\n",
    "            tasas.append(tasa)\n",
    "\n",
    "    #print(\"Tasas de interés obtenidas:\", tasas)\n",
    "\n",
    "    # Calcular cuota mensual para cada banco y almacenar los resultados en una lista\n",
    "    cuotas_mensuales = []\n",
    "\n",
    "    for i, (banco, info) in enumerate(bancos.items()):\n",
    "        cuota_mensual = calcular_cuota_mensual(monto_inicial=mo, tasa=tasas[i], plazo=12)\n",
    "        cuotas_mensuales.append(round(cuota_mensual,2))\n",
    "\n",
    "    # Crear un DataFrame con los resultados\n",
    "    Prestamo = {\n",
    "        \"Entidad\": list(bancos.keys()),\n",
    "        \"TEA%\": tasas,\n",
    "        \"Cuota Mensual\": cuotas_mensuales\n",
    "    }\n",
    "    PP = pd.DataFrame(Prestamo)\n",
    "\n",
    "    # Ordenar el DataFrame por cuota mensual de menor a mayor\n",
    "    PrestamoPersonal = PP.sort_values(by=['TEA%'])\n",
    "\n",
    "\n",
    "    print(\"Hola\", nm, \", gracias por confiar en BankMoney para aconsejarte en tu aventura financiera.\")\n",
    "    print(\"Para el préstamo personal que deseas realizar te recomendamos\",PrestamoPersonal.iloc[0]['Entidad'])\n",
    "    print(\"ya que te ofrece\", PrestamoPersonal.iloc[0]['TEA%'],\"% de TEA(Tasa de efectivo anual)\")\n",
    "    print(\"por ende, con un monto inicial de\", mo, \"S/. pagarías\", PrestamoPersonal.iloc[0]['Cuota Mensual'], \"S/. mensuales\")\n",
    "\n",
    "\n",
    "if float(op) == 3: #Depósito a plazo fijo\n",
    "    # Scotiabank\n",
    "    url=\"https://www.scotiabank.com.pe/Personas/Ahorros/otros/gratificacion\"\n",
    "    uclient=urlopen(url) #Conectamos con el url\n",
    "    pagehtml=uclient.read() #Leemos el html en bite\n",
    "    uclient.close() #Cerramos la conexión\n",
    "    dt_sc = pagehtml.decode() #Decodificamos en bite a str\n",
    "    result_sc = re.findall('Plazo de hasta (\\d\\.\\d)%<', dt_sc) #Usamos rgx para encontrar la TREA\n",
    "    # Caja Huancayo\n",
    "    url=\"https://www.cajahuancayo.com.pe/PCM_Noticias/PCM_frmDetCampanias.aspx?cCodCamPub=C0088&cCodigo=84\"\n",
    "    uclient=urlopen(url) #Conectamos con el url\n",
    "    pagehtml=uclient.read() #Leemos el html en bite\n",
    "    uclient.close() #Cerramos la conexión\n",
    "    dt_ch = pagehtml.decode() #Decodificamos en bite a str\n",
    "    result_ch = re.findall('PLAZO FIJO HASTA (\\d\\.\\d\\d)%', dt_ch) #Usamos rgx para encontrar la TREA\n",
    "    # BBVA\n",
    "    url=\"https://www.bbva.pe/personas/productos/inversiones/depositos/deposito-plazo.html#tasas-e-intereses\"\n",
    "    uclient=urlopen(url) #Conectamos con el url\n",
    "    pagehtml=uclient.read() #Leemos el html en bite\n",
    "    uclient.close() #Cerramos la conexión\n",
    "    dt_ba = pagehtml.decode() #Decodificamos en bite a str\n",
    "    result_ba = re.findall('Hasta (\\d)%', dt_ba) #Usamos rgx para encontrar la TREA\n",
    "    trea=[float(result_sc[0]),float(result_ch[0]),float(result_ba[0])] #Almacenamos la TREA en una lista\n",
    "    Dep_Fijo={\"Entidad\":[\"Scotiabank\", \"Caja Huancayo\", \"BBVA\"], \"TREA %\" :trea } #Creamos un dict.\n",
    "    DFF=pd.DataFrame(Dep_Fijo) #Creamos un dataframe tipo pandas\n",
    "    DFF_ord=DFF.sort_values(by=['TREA %']) #Ordenamos las filas según la TREA\n",
    "    #print(DFF_ord.iloc[-1]) #Recomendación\n",
    "    #type(float(DFF_ord.iloc[0].iloc[1])) #Para la operación\n",
    "    #Mensaje para el usuario\n",
    "    print(\"Hola \",nm, \", gracias por confiar en BankMoney para aconsejarte en tu aventura financiera.\")\n",
    "    print(\"Para el depósito a plazo fijo que deseas hacer te recomendamos \", DFF_ord.iloc[-1].iloc[0])\n",
    "    print(\"que te ofrece \", float(DFF_ord.iloc[-1].iloc[1]),\"% de TREA anual\")\n",
    "    print(\"por lo cual de invertir s/\", mo,\"estarías recibiendo s/\", (float(mo)+0.01*float(mo)*(float(DFF_ord.iloc[-1].iloc[1]))))\n",
    "    "
   ]
  },
  {
   "cell_type": "markdown",
   "id": "02d7ccdb",
   "metadata": {},
   "source": [
    "## <span style=\"color: #F39916;\"> Guardando información en csv </span>"
   ]
  },
  {
   "cell_type": "code",
   "execution_count": 28,
   "id": "4ba5c806",
   "metadata": {},
   "outputs": [],
   "source": [
    "# [1] Información webscrapeada sobre cambio de divisas\n",
    "df = pd.DataFrame(diccionario)  \n",
    "#Mostrar el DataFrame después de quitar la columna\n",
    "#print(df)\n",
    "df.to_csv('TIPO DE CAMBIO.csv',sep=\",\") #SEPARADOR \",\" \n",
    "\n",
    "# [2] Información webscrapeada sobre préstamo personal\n",
    "PrestamoPersonal.drop(PrestamoPersonal.columns[2], axis=1).to_csv('Prestamo.csv', sep=';', encoding='utf-8', index=False)\n",
    "\n",
    "# [3] Información webscrapeada sobre depósito a plazo fijo\n",
    "DFF_ord.to_csv('Dep_f.csv', sep = \";\" , encoding = \"utf-8\", index=False)"
   ]
  },
  {
   "cell_type": "markdown",
   "id": "f96789c5",
   "metadata": {},
   "source": [
    "# <span style=\"color: #143186;\"> Códigos de prueba >>>>>> </span> "
   ]
  },
  {
   "cell_type": "code",
   "execution_count": 29,
   "id": "fefca63d",
   "metadata": {},
   "outputs": [
    {
     "name": "stdout",
     "output_type": "stream",
     "text": [
      "Hola  Jime , gracias por confiar en BankMoney para aconsejarte en tu aventura financiera.\n",
      "Para [Operación] que deseas hacer te recomendamos [Nombre de entidad banco/caja/etc]\n",
      "que te ofrece [Tipo de cambio/Interés/etc] \n",
      "por lo cual de invertir [Monto] estarías recibiendo [Operación según corresponda el tipo de operación].\n"
     ]
    }
   ],
   "source": [
    "print(\"Hola \",nm, \", gracias por confiar en BankMoney para aconsejarte en tu aventura financiera.\")\n",
    "print(\"Para [Operación] que deseas hacer te recomendamos [Nombre de entidad banco/caja/etc]\")\n",
    "print(\"que te ofrece [Tipo de cambio/Interés/etc] \")\n",
    "print(\"por lo cual de invertir [Monto] estarías recibiendo [Operación según corresponda el tipo de operación].\")"
   ]
  },
  {
   "cell_type": "markdown",
   "id": "874a4710",
   "metadata": {},
   "source": [
    "### <span style=\"color: #F5143A;\"> Prueba Scotiabank </span> "
   ]
  },
  {
   "cell_type": "code",
   "execution_count": 30,
   "id": "45873ad0",
   "metadata": {},
   "outputs": [
    {
     "name": "stdout",
     "output_type": "stream",
     "text": [
      "<class 'str'>\n",
      "8.1\n"
     ]
    }
   ],
   "source": [
    "# Scotiabank\n",
    "url=\"https://www.scotiabank.com.pe/Personas/Ahorros/otros/gratificacion\"\n",
    "uclient=urlopen(url)\n",
    "pagehtml=uclient.read()\n",
    "uclient.close()\n",
    "\n",
    "dt_sc = pagehtml.decode()\n",
    "print(type(dt_sc))\n",
    "result_sc = re.findall('Plazo de hasta (\\d\\.\\d)%<', dt_sc)\n",
    "print (float (result_sc[0]))"
   ]
  },
  {
   "cell_type": "markdown",
   "id": "368e5d9c",
   "metadata": {},
   "source": [
    "### <span style=\"color: #F1011A;\"> Prueba Caja Huancayo </span> "
   ]
  },
  {
   "cell_type": "code",
   "execution_count": 31,
   "id": "1bedf3d0",
   "metadata": {},
   "outputs": [
    {
     "name": "stdout",
     "output_type": "stream",
     "text": [
      "<class 'str'>\n",
      "8.75\n"
     ]
    }
   ],
   "source": [
    "# Caja Huancayo\n",
    "url=\"https://www.cajahuancayo.com.pe/PCM_Noticias/PCM_frmDetCampanias.aspx?cCodCamPub=C0088&cCodigo=84\"\n",
    "uclient=urlopen(url)\n",
    "pagehtml=uclient.read()\n",
    "uclient.close()\n",
    "\n",
    "dt_ch = pagehtml.decode()\n",
    "#print(dt_ch)\n",
    "print(type(dt_ch))\n",
    "result_ch = re.findall('PLAZO FIJO HASTA (\\d\\.\\d\\d)%', dt_ch)\n",
    "print (float (result_ch[0]))"
   ]
  },
  {
   "cell_type": "markdown",
   "id": "62678483",
   "metadata": {},
   "source": [
    "### <span style=\"color: #4F189F;\"> Prueba BBVA </span> "
   ]
  },
  {
   "cell_type": "code",
   "execution_count": 32,
   "id": "a814e99c",
   "metadata": {},
   "outputs": [
    {
     "name": "stdout",
     "output_type": "stream",
     "text": [
      "<class 'str'>\n",
      "8.0\n"
     ]
    }
   ],
   "source": [
    "# BBVA\n",
    "url=\"https://www.bbva.pe/personas/productos/inversiones/depositos/deposito-plazo.html#tasas-e-intereses\"\n",
    "uclient=urlopen(url)\n",
    "pagehtml=uclient.read()\n",
    "uclient.close()\n",
    "\n",
    "dt_ba = pagehtml.decode()\n",
    "#print(dt_ba)\n",
    "print(type(dt_ba))\n",
    "result_ba = re.findall('Hasta (\\d)%', dt_ba)\n",
    "print (float (result_ba[0]))"
   ]
  },
  {
   "cell_type": "markdown",
   "id": "9217bcf2",
   "metadata": {},
   "source": [
    "### <span style=\"color: #51BD92;\"> Prueba dataframes y csv </span> "
   ]
  },
  {
   "cell_type": "code",
   "execution_count": 33,
   "id": "40ec32eb",
   "metadata": {},
   "outputs": [],
   "source": [
    "trea=[float(result_sc[0]),float(result_ch[0]),float(result_ba[0])]\n",
    "Dep_Fijo={\"Entidad\":[\"Scotiabank\", \"Caja Huancayo\", \"BBVA\"], \"TREA %\" :trea }\n",
    "DFF=pd.DataFrame(Dep_Fijo)"
   ]
  },
  {
   "cell_type": "code",
   "execution_count": 34,
   "id": "ec46e218",
   "metadata": {},
   "outputs": [],
   "source": [
    "DFF_ord=DFF.sort_values(by=['TREA %'])"
   ]
  },
  {
   "cell_type": "code",
   "execution_count": 35,
   "id": "89252dca",
   "metadata": {},
   "outputs": [
    {
     "data": {
      "text/html": [
       "<div>\n",
       "<style scoped>\n",
       "    .dataframe tbody tr th:only-of-type {\n",
       "        vertical-align: middle;\n",
       "    }\n",
       "\n",
       "    .dataframe tbody tr th {\n",
       "        vertical-align: top;\n",
       "    }\n",
       "\n",
       "    .dataframe thead th {\n",
       "        text-align: right;\n",
       "    }\n",
       "</style>\n",
       "<table border=\"1\" class=\"dataframe\">\n",
       "  <thead>\n",
       "    <tr style=\"text-align: right;\">\n",
       "      <th></th>\n",
       "      <th>Entidad</th>\n",
       "      <th>TREA %</th>\n",
       "    </tr>\n",
       "  </thead>\n",
       "  <tbody>\n",
       "    <tr>\n",
       "      <th>2</th>\n",
       "      <td>BBVA</td>\n",
       "      <td>8.00</td>\n",
       "    </tr>\n",
       "    <tr>\n",
       "      <th>0</th>\n",
       "      <td>Scotiabank</td>\n",
       "      <td>8.10</td>\n",
       "    </tr>\n",
       "    <tr>\n",
       "      <th>1</th>\n",
       "      <td>Caja Huancayo</td>\n",
       "      <td>8.75</td>\n",
       "    </tr>\n",
       "  </tbody>\n",
       "</table>\n",
       "</div>"
      ],
      "text/plain": [
       "         Entidad  TREA %\n",
       "2           BBVA    8.00\n",
       "0     Scotiabank    8.10\n",
       "1  Caja Huancayo    8.75"
      ]
     },
     "execution_count": 35,
     "metadata": {},
     "output_type": "execute_result"
    }
   ],
   "source": [
    "DFF_ord"
   ]
  },
  {
   "cell_type": "code",
   "execution_count": 36,
   "id": "234c3c92",
   "metadata": {},
   "outputs": [
    {
     "name": "stdout",
     "output_type": "stream",
     "text": [
      "Entidad    Caja Huancayo\n",
      "TREA %              8.75\n",
      "Name: 1, dtype: object\n"
     ]
    }
   ],
   "source": [
    "print(DFF_ord.iloc[-1])"
   ]
  },
  {
   "cell_type": "code",
   "execution_count": 37,
   "id": "be8d7136",
   "metadata": {},
   "outputs": [
    {
     "data": {
      "text/plain": [
       "float"
      ]
     },
     "execution_count": 37,
     "metadata": {},
     "output_type": "execute_result"
    }
   ],
   "source": [
    "type(float(DFF_ord.iloc[0].iloc[1]))"
   ]
  },
  {
   "cell_type": "code",
   "execution_count": 38,
   "id": "f042037a",
   "metadata": {},
   "outputs": [],
   "source": [
    "DFF\n",
    "DFF.to_csv('Dep_f.csv', sep = \";\" , encoding = \"utf-8\", index=False)"
   ]
  },
  {
   "cell_type": "markdown",
   "id": "609c6bb1",
   "metadata": {},
   "source": [
    "### <span style=\"color: #1DA017;\"> Prueba Interbank </span> "
   ]
  },
  {
   "cell_type": "code",
   "execution_count": 39,
   "id": "3e3b6045",
   "metadata": {},
   "outputs": [
    {
     "name": "stdout",
     "output_type": "stream",
     "text": [
      "['59.92']\n",
      "<class 'float'>\n",
      "59.92\n"
     ]
    }
   ],
   "source": [
    "# Interbank\n",
    "url = \"https://interbank.pe/solicitar/prestamo/efectivo/inicio?pcid=home:productos-para-ti:producto-2:prestamo\"\n",
    "uclient = urlopen(url)\n",
    "pagehtml = uclient.read()\n",
    "uclient.close()\n",
    "\n",
    "inte = pagehtml.decode()\n",
    "interbank_tcea = re.findall(r\"TCEA\\sMáxima:\\s([\\d.]+)%\", inte)\n",
    "print(interbank_tcea)\n",
    "tcea = float(interbank_tcea[0])\n",
    "print(type(tcea))\n",
    "print(tcea)"
   ]
  },
  {
   "cell_type": "markdown",
   "id": "374e4f55",
   "metadata": {},
   "source": [
    "### <span style=\"color: #FF7807;\"> Prueba BCP </span> "
   ]
  },
  {
   "cell_type": "code",
   "execution_count": 40,
   "id": "2d006cc5",
   "metadata": {},
   "outputs": [
    {
     "name": "stdout",
     "output_type": "stream",
     "text": [
      "['87.5']\n",
      "<class 'float'>\n",
      "87.5\n"
     ]
    }
   ],
   "source": [
    "#BCP\n",
    "options = webdriver.ChromeOptions()\n",
    "options.add_argument('--start-maximized')\n",
    "options.add_argument('--disable-extensions')\n",
    "\n",
    "driver_path = 'C:/Users/jimen/Downloads/chromedriver.exe'\n",
    "\n",
    "driver = webdriver.Chrome(options=options)\n",
    "\n",
    "driver.get('https://www.viabcp.com/creditos/credito-efectivo/prestamo-personal-bcp?rfid=header:productos:prestamo-personal:prestamos')\n",
    "\n",
    "WebDriverWait(driver, 15).until(EC.element_to_be_clickable((By.CSS_SELECTOR, 'button.bcp_btn_aceptar.bcp_boton_naranja'))).click()\n",
    "\n",
    "WebDriverWait(driver, 20).until(EC.element_to_be_clickable((By.XPATH, '/html/body/div[1]/div/div[3]/div/div[2]/div/div[4]/section/div[2]/main/div/div/div[2]/div[2]/div[1]/div[1]/ul[6]/li[1]/span[2]/span')))\n",
    "\n",
    "texto_element = driver.find_element(By.XPATH, '/html/body/div[1]/div/div[3]/div/div[2]/div/div[4]/section/div[2]/main/div/div/div[2]/div[2]/div[1]/div[1]/ul[6]/li[1]/span[2]/span')\n",
    "\n",
    "texto = texto_element.text\n",
    "\n",
    "driver.quit()\n",
    "\n",
    "banco = re.findall(r\"hasta (\\d+\\.\\d+)%\", texto)\n",
    "print(banco)\n",
    "TEA = float(banco[0])\n",
    "print(type(TEA))\n",
    "print(TEA)"
   ]
  },
  {
   "cell_type": "markdown",
   "id": "3f7e84ef",
   "metadata": {},
   "source": [
    "### <span style=\"color: #10D0DD;\"> Prueba BanBif </span> "
   ]
  },
  {
   "cell_type": "code",
   "execution_count": 41,
   "id": "5598da7d",
   "metadata": {},
   "outputs": [
    {
     "name": "stdout",
     "output_type": "stream",
     "text": [
      "['66.90']\n",
      "<class 'float'>\n",
      "66.9\n"
     ]
    }
   ],
   "source": [
    "#BanBif\n",
    "url = \"https://www.banbif.com.pe/PrestamosClick\"\n",
    "uclient = urlopen(url)\n",
    "pagehtml = uclient.read()\n",
    "uclient.close()\n",
    "\n",
    "bb = pagehtml.decode()\n",
    "banbif_tea = re.findall(r\"TEA de (\\d+\\.\\d+)%\", bb)\n",
    "print(banbif_tea)\n",
    "t = float(banbif_tea[0])\n",
    "print(type(t))\n",
    "print(t)"
   ]
  },
  {
   "cell_type": "markdown",
   "id": "8b62cbb9",
   "metadata": {},
   "source": [
    "### <span style=\"color: #D650BB;\"> Prueba dataframe </span> "
   ]
  },
  {
   "cell_type": "code",
   "execution_count": 12,
   "id": "c171c6c9",
   "metadata": {},
   "outputs": [
    {
     "data": {
      "text/html": [
       "<div>\n",
       "<style scoped>\n",
       "    .dataframe tbody tr th:only-of-type {\n",
       "        vertical-align: middle;\n",
       "    }\n",
       "\n",
       "    .dataframe tbody tr th {\n",
       "        vertical-align: top;\n",
       "    }\n",
       "\n",
       "    .dataframe thead th {\n",
       "        text-align: right;\n",
       "    }\n",
       "</style>\n",
       "<table border=\"1\" class=\"dataframe\">\n",
       "  <thead>\n",
       "    <tr style=\"text-align: right;\">\n",
       "      <th></th>\n",
       "      <th>Entidad</th>\n",
       "      <th>TEA%</th>\n",
       "      <th>Cuota Mensual</th>\n",
       "    </tr>\n",
       "  </thead>\n",
       "  <tbody>\n",
       "    <tr>\n",
       "      <th>0</th>\n",
       "      <td>Interbank</td>\n",
       "      <td>59.92</td>\n",
       "      <td>666.33</td>\n",
       "    </tr>\n",
       "    <tr>\n",
       "      <th>2</th>\n",
       "      <td>BanBif</td>\n",
       "      <td>66.90</td>\n",
       "      <td>695.42</td>\n",
       "    </tr>\n",
       "    <tr>\n",
       "      <th>1</th>\n",
       "      <td>BCP</td>\n",
       "      <td>87.50</td>\n",
       "      <td>781.25</td>\n",
       "    </tr>\n",
       "  </tbody>\n",
       "</table>\n",
       "</div>"
      ],
      "text/plain": [
       "     Entidad   TEA%  Cuota Mensual\n",
       "0  Interbank  59.92         666.33\n",
       "2     BanBif  66.90         695.42\n",
       "1        BCP  87.50         781.25"
      ]
     },
     "execution_count": 12,
     "metadata": {},
     "output_type": "execute_result"
    }
   ],
   "source": [
    "Prestamo = {\n",
    "    \"Entidad\": list(bancos.keys()),\n",
    "    \"TEA%\": tasas,\n",
    "    \"Cuota Mensual\": cuotas_mensuales\n",
    "}\n",
    "PP = pd.DataFrame(Prestamo)\n",
    "\n",
    "# Ordenamos por TEA de menor a mayor\n",
    "PrestamoPersonal = PP.sort_values(by=['TEA%'])\n",
    "PrestamoPersonal"
   ]
  },
  {
   "cell_type": "markdown",
   "id": "c28d2004",
   "metadata": {},
   "source": [
    "##  <span style=\"color: #143186;\"> Grafico comparativo del tipo de cambio </span> "
   ]
  },
  {
   "cell_type": "markdown",
   "id": "c43eb315",
   "metadata": {},
   "source": [
    "![](https://pbs.twimg.com/media/F0Ej2hCWwAYKL5P?format=jpg&name=small)\n"
   ]
  }
 ],
 "metadata": {
  "kernelspec": {
   "display_name": "Python 3 (ipykernel)",
   "language": "python",
   "name": "python3"
  },
  "language_info": {
   "codemirror_mode": {
    "name": "ipython",
    "version": 3
   },
   "file_extension": ".py",
   "mimetype": "text/x-python",
   "name": "python",
   "nbconvert_exporter": "python",
   "pygments_lexer": "ipython3",
   "version": "3.9.13"
  }
 },
 "nbformat": 4,
 "nbformat_minor": 5
}
